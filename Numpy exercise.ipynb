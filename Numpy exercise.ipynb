{
 "cells": [
  {
   "cell_type": "markdown",
   "id": "1f53ef29",
   "metadata": {},
   "source": [
    "# Notes on NumPy"
   ]
  },
  {
   "cell_type": "markdown",
   "id": "f157a47b",
   "metadata": {},
   "source": [
    "Why use numpy?\n",
    "- NumPy provides efficient storage\n",
    "- It also provides better ways of handling data for processing\n",
    "- It is fast\n",
    "- It is easy to learn\n",
    "- NumPy uses relatively uses less memory to store data"
   ]
  },
  {
   "cell_type": "code",
   "execution_count": 1,
   "id": "e5c8dfe8",
   "metadata": {},
   "outputs": [],
   "source": [
    "import numpy as np"
   ]
  },
  {
   "cell_type": "markdown",
   "id": "087c6c1e",
   "metadata": {},
   "source": [
    "Create an array"
   ]
  },
  {
   "cell_type": "code",
   "execution_count": 6,
   "id": "9dbdfdba",
   "metadata": {},
   "outputs": [
    {
     "data": {
      "text/plain": [
       "array([6, 7, 9])"
      ]
     },
     "execution_count": 6,
     "metadata": {},
     "output_type": "execute_result"
    }
   ],
   "source": [
    "simple_list=[6,7,9]\n",
    "np.array(simple_list)"
   ]
  },
  {
   "cell_type": "code",
   "execution_count": 8,
   "id": "6e9b7d61",
   "metadata": {},
   "outputs": [
    {
     "data": {
      "text/plain": [
       "array([1, 2, 3])"
      ]
     },
     "execution_count": 8,
     "metadata": {},
     "output_type": "execute_result"
    }
   ],
   "source": [
    "arr=np.array([1,2,3])\n",
    "arr"
   ]
  },
  {
   "cell_type": "code",
   "execution_count": 9,
   "id": "dff90ba3",
   "metadata": {},
   "outputs": [
    {
     "data": {
      "text/plain": [
       "array([[1, 2, 3],\n",
       "       [4, 5, 6],\n",
       "       [7, 8, 9]])"
      ]
     },
     "execution_count": 9,
     "metadata": {},
     "output_type": "execute_result"
    }
   ],
   "source": [
    "list_of_lists=([1,2,3],[4,5,6],[7,8,9])\n",
    "np.array(list_of_lists)"
   ]
  },
  {
   "cell_type": "code",
   "execution_count": 10,
   "id": "8d124553",
   "metadata": {},
   "outputs": [
    {
     "data": {
      "text/plain": [
       "array([ 5, 11, 17, 23, 29])"
      ]
     },
     "execution_count": 10,
     "metadata": {},
     "output_type": "execute_result"
    }
   ],
   "source": [
    "np.arange(5,35,6)"
   ]
  },
  {
   "cell_type": "code",
   "execution_count": 11,
   "id": "9245f56d",
   "metadata": {},
   "outputs": [
    {
     "data": {
      "text/plain": [
       "array([ 5,  6,  7,  8,  9, 10, 11, 12, 13, 14, 15, 16, 17, 18, 19, 20, 21,\n",
       "       22, 23, 24, 25, 26, 27])"
      ]
     },
     "execution_count": 11,
     "metadata": {},
     "output_type": "execute_result"
    }
   ],
   "source": [
    "np.arange(5,28)"
   ]
  },
  {
   "cell_type": "code",
   "execution_count": 12,
   "id": "046ed88f",
   "metadata": {},
   "outputs": [
    {
     "data": {
      "text/plain": [
       "array([0., 0., 0., 0., 0., 0.])"
      ]
     },
     "execution_count": 12,
     "metadata": {},
     "output_type": "execute_result"
    }
   ],
   "source": [
    "np.zeros(6)"
   ]
  },
  {
   "cell_type": "code",
   "execution_count": 13,
   "id": "dcddb78c",
   "metadata": {},
   "outputs": [
    {
     "data": {
      "text/plain": [
       "array([0, 0, 0, 0, 0, 0])"
      ]
     },
     "execution_count": 13,
     "metadata": {},
     "output_type": "execute_result"
    }
   ],
   "source": [
    "np.zeros(6,dtype=int)"
   ]
  },
  {
   "cell_type": "code",
   "execution_count": 14,
   "id": "270dc593",
   "metadata": {},
   "outputs": [
    {
     "data": {
      "text/plain": [
       "array([1., 1., 1., 1., 1.])"
      ]
     },
     "execution_count": 14,
     "metadata": {},
     "output_type": "execute_result"
    }
   ],
   "source": [
    "np.ones(5)"
   ]
  },
  {
   "cell_type": "code",
   "execution_count": 15,
   "id": "8c89af8e",
   "metadata": {},
   "outputs": [
    {
     "data": {
      "text/plain": [
       "array([1, 1, 1, 1, 1])"
      ]
     },
     "execution_count": 15,
     "metadata": {},
     "output_type": "execute_result"
    }
   ],
   "source": [
    "np.ones(5,dtype=int)"
   ]
  },
  {
   "cell_type": "code",
   "execution_count": 16,
   "id": "dfaf1905",
   "metadata": {},
   "outputs": [
    {
     "data": {
      "text/plain": [
       "array([[1, 1, 1, 1, 1],\n",
       "       [1, 1, 1, 1, 1]])"
      ]
     },
     "execution_count": 16,
     "metadata": {},
     "output_type": "execute_result"
    }
   ],
   "source": [
    "#2 rows and 5 columns\n",
    "np.ones((2,5),dtype=int)"
   ]
  },
  {
   "cell_type": "code",
   "execution_count": 17,
   "id": "9b6592e7",
   "metadata": {},
   "outputs": [
    {
     "data": {
      "text/plain": [
       "array([ 0.        ,  2.22222222,  4.44444444,  6.66666667,  8.88888889,\n",
       "       11.11111111, 13.33333333, 15.55555556, 17.77777778, 20.        ])"
      ]
     },
     "execution_count": 17,
     "metadata": {},
     "output_type": "execute_result"
    }
   ],
   "source": [
    "#linspace is linearly spaced point in the given range with a specified step size\n",
    "np.linspace(0,20,10)# It gives 10 equal parts between 0 and 20 "
   ]
  },
  {
   "cell_type": "code",
   "execution_count": 18,
   "id": "2bdd3736",
   "metadata": {},
   "outputs": [
    {
     "data": {
      "text/plain": [
       "array([ 0.        ,  0.71428571,  1.42857143,  2.14285714,  2.85714286,\n",
       "        3.57142857,  4.28571429,  5.        ,  5.71428571,  6.42857143,\n",
       "        7.14285714,  7.85714286,  8.57142857,  9.28571429, 10.        ])"
      ]
     },
     "execution_count": 18,
     "metadata": {},
     "output_type": "execute_result"
    }
   ],
   "source": [
    "np.linspace(0,10,15)"
   ]
  },
  {
   "cell_type": "code",
   "execution_count": 19,
   "id": "11cf546b",
   "metadata": {},
   "outputs": [
    {
     "data": {
      "text/plain": [
       "array([[1, 0, 0, 0, 0],\n",
       "       [0, 1, 0, 0, 0],\n",
       "       [0, 0, 1, 0, 0],\n",
       "       [0, 0, 0, 1, 0],\n",
       "       [0, 0, 0, 0, 1]])"
      ]
     },
     "execution_count": 19,
     "metadata": {},
     "output_type": "execute_result"
    }
   ],
   "source": [
    "np.eye(5,dtype=int) #Gives identity matrix of size 5"
   ]
  },
  {
   "cell_type": "code",
   "execution_count": 20,
   "id": "6193e9e5",
   "metadata": {},
   "outputs": [
    {
     "data": {
      "text/plain": [
       "array([[0.43564087, 0.0410702 , 0.02682106, 0.17102373],\n",
       "       [0.70346248, 0.10524672, 0.29850992, 0.0470321 ]])"
      ]
     },
     "execution_count": 20,
     "metadata": {},
     "output_type": "execute_result"
    }
   ],
   "source": [
    "np.random.rand(2,4) #gives a random array of 2 rows and 4 columns"
   ]
  },
  {
   "cell_type": "code",
   "execution_count": 21,
   "id": "60e91da2",
   "metadata": {},
   "outputs": [
    {
     "data": {
      "text/plain": [
       "array([[ 0.00984653,  0.43172556, -1.34009849, -0.38072067],\n",
       "       [ 0.68327487, -0.47993996, -0.7333819 ,  0.76371857]])"
      ]
     },
     "execution_count": 21,
     "metadata": {},
     "output_type": "execute_result"
    }
   ],
   "source": [
    "np.random.randn(2,4) #includes negative number as well"
   ]
  },
  {
   "cell_type": "code",
   "execution_count": 22,
   "id": "84a22710",
   "metadata": {
    "scrolled": true
   },
   "outputs": [
    {
     "data": {
      "text/plain": [
       "array([6, 1, 6, 2, 9, 0, 7, 9, 0, 6, 7, 0, 5, 5, 5])"
      ]
     },
     "execution_count": 22,
     "metadata": {},
     "output_type": "execute_result"
    }
   ],
   "source": [
    "np.random.randint(0,10,15) # Creates an array of size 15 with values 0 to 9 "
   ]
  },
  {
   "cell_type": "code",
   "execution_count": 25,
   "id": "69b97ec7",
   "metadata": {},
   "outputs": [
    {
     "data": {
      "text/plain": [
       "array([39, 21, 42, 28, 13, 29, 48, 35, 39, 36, 14, 21, 33, 41, 11, 13, 38,\n",
       "       49, 12, 43])"
      ]
     },
     "execution_count": 25,
     "metadata": {},
     "output_type": "execute_result"
    }
   ],
   "source": [
    "np.random.randint(10,50,20)"
   ]
  },
  {
   "cell_type": "code",
   "execution_count": 24,
   "id": "56f8bf8b",
   "metadata": {},
   "outputs": [
    {
     "data": {
      "text/plain": [
       "array([0, 3, 5, 5, 0])"
      ]
     },
     "execution_count": 24,
     "metadata": {},
     "output_type": "execute_result"
    }
   ],
   "source": [
    "rand_array= np.random.randint(0,10,5)\n",
    "rand_array"
   ]
  },
  {
   "cell_type": "code",
   "execution_count": 27,
   "id": "77b8a67c",
   "metadata": {},
   "outputs": [
    {
     "data": {
      "text/plain": [
       "array([ 3,  4,  5,  6,  7,  8,  9, 10, 11, 12, 13, 14, 15, 16, 17, 18, 19,\n",
       "       20, 21, 22, 23, 24, 25, 26, 27, 28, 29])"
      ]
     },
     "execution_count": 27,
     "metadata": {},
     "output_type": "execute_result"
    }
   ],
   "source": [
    "sample=np.arange(3,30)\n",
    "sample"
   ]
  },
  {
   "cell_type": "code",
   "execution_count": 28,
   "id": "87056e99",
   "metadata": {},
   "outputs": [
    {
     "data": {
      "text/plain": [
       "3"
      ]
     },
     "execution_count": 28,
     "metadata": {},
     "output_type": "execute_result"
    }
   ],
   "source": [
    "sample.min()"
   ]
  },
  {
   "cell_type": "code",
   "execution_count": 29,
   "id": "9344a943",
   "metadata": {},
   "outputs": [
    {
     "data": {
      "text/plain": [
       "0"
      ]
     },
     "execution_count": 29,
     "metadata": {},
     "output_type": "execute_result"
    }
   ],
   "source": [
    "sample.argmin() #index of the minimum value"
   ]
  },
  {
   "cell_type": "code",
   "execution_count": 30,
   "id": "391f963d",
   "metadata": {},
   "outputs": [
    {
     "data": {
      "text/plain": [
       "29"
      ]
     },
     "execution_count": 30,
     "metadata": {},
     "output_type": "execute_result"
    }
   ],
   "source": [
    "sample.max()"
   ]
  },
  {
   "cell_type": "code",
   "execution_count": 31,
   "id": "f39daa9b",
   "metadata": {},
   "outputs": [
    {
     "data": {
      "text/plain": [
       "26"
      ]
     },
     "execution_count": 31,
     "metadata": {},
     "output_type": "execute_result"
    }
   ],
   "source": [
    "sample.argmax()"
   ]
  },
  {
   "cell_type": "code",
   "execution_count": 33,
   "id": "a7af898c",
   "metadata": {},
   "outputs": [
    {
     "data": {
      "text/plain": [
       "array([[1., 0., 0.],\n",
       "       [0., 1., 0.],\n",
       "       [0., 0., 1.]])"
      ]
     },
     "execution_count": 33,
     "metadata": {},
     "output_type": "execute_result"
    }
   ],
   "source": [
    "a=np.eye(3)\n",
    "a"
   ]
  },
  {
   "cell_type": "code",
   "execution_count": 35,
   "id": "72669b25",
   "metadata": {},
   "outputs": [
    {
     "data": {
      "text/plain": [
       "array([[0.68495862, 0.96093694, 0.00606156, 0.35457811, 0.34236329,\n",
       "        0.2611078 ],\n",
       "       [0.82781967, 0.39902671, 0.08043005, 0.68884062, 0.46975278,\n",
       "        0.65595698],\n",
       "       [0.64755861, 0.48839169, 0.38496293, 0.20745996, 0.5077421 ,\n",
       "        0.25711199]])"
      ]
     },
     "execution_count": 35,
     "metadata": {},
     "output_type": "execute_result"
    }
   ],
   "source": [
    "b=np.random.rand(3,6)\n",
    "b"
   ]
  },
  {
   "cell_type": "code",
   "execution_count": 36,
   "id": "b9eb2ff2",
   "metadata": {},
   "outputs": [
    {
     "data": {
      "text/plain": [
       "array([[0.68495862, 0.82781967, 0.64755861],\n",
       "       [0.96093694, 0.39902671, 0.48839169],\n",
       "       [0.00606156, 0.08043005, 0.38496293],\n",
       "       [0.35457811, 0.68884062, 0.20745996],\n",
       "       [0.34236329, 0.46975278, 0.5077421 ],\n",
       "       [0.2611078 , 0.65595698, 0.25711199]])"
      ]
     },
     "execution_count": 36,
     "metadata": {},
     "output_type": "execute_result"
    }
   ],
   "source": [
    "b.T"
   ]
  },
  {
   "cell_type": "code",
   "execution_count": 40,
   "id": "80ef2238",
   "metadata": {},
   "outputs": [
    {
     "data": {
      "text/plain": [
       "array([ 1,  2,  3,  4,  5,  6,  7,  8,  9, 10, 11, 12, 13, 14, 15])"
      ]
     },
     "execution_count": 40,
     "metadata": {},
     "output_type": "execute_result"
    }
   ],
   "source": [
    "c_samp=np.arange(1,16)\n",
    "c_samp"
   ]
  },
  {
   "cell_type": "code",
   "execution_count": 42,
   "id": "17ca1f37",
   "metadata": {},
   "outputs": [
    {
     "data": {
      "text/plain": [
       "array([[ 1,  2,  3,  4,  5],\n",
       "       [ 6,  7,  8,  9, 10],\n",
       "       [11, 12, 13, 14, 15]])"
      ]
     },
     "execution_count": 42,
     "metadata": {},
     "output_type": "execute_result"
    }
   ],
   "source": [
    "c_samp=c_samp.reshape(3,5)\n",
    "c_samp"
   ]
  },
  {
   "cell_type": "code",
   "execution_count": 44,
   "id": "a4a0707f",
   "metadata": {},
   "outputs": [
    {
     "data": {
      "text/plain": [
       "array([[ 1,  2,  3],\n",
       "       [ 4,  5,  6],\n",
       "       [ 7,  8,  9],\n",
       "       [10, 11, 12],\n",
       "       [13, 14, 15]])"
      ]
     },
     "execution_count": 44,
     "metadata": {},
     "output_type": "execute_result"
    }
   ],
   "source": [
    "c_samp=c_samp.reshape(5,3)\n",
    "c_samp"
   ]
  },
  {
   "cell_type": "code",
   "execution_count": 45,
   "id": "39a96422",
   "metadata": {},
   "outputs": [
    {
     "data": {
      "text/plain": [
       "array([ 1,  2,  3,  4,  5,  6,  7,  8,  9, 10, 11, 12, 13, 14, 15])"
      ]
     },
     "execution_count": 45,
     "metadata": {},
     "output_type": "execute_result"
    }
   ],
   "source": [
    "c_samp=c_samp.ravel()\n",
    "c_samp"
   ]
  },
  {
   "cell_type": "code",
   "execution_count": 46,
   "id": "2e15cce9",
   "metadata": {},
   "outputs": [
    {
     "data": {
      "text/plain": [
       "array([[ 1,  2,  3,  4,  5],\n",
       "       [ 6,  7,  8,  9, 10],\n",
       "       [11, 12, 13, 14, 15]])"
      ]
     },
     "execution_count": 46,
     "metadata": {},
     "output_type": "execute_result"
    }
   ],
   "source": [
    "c_samp=c_samp.reshape(3,5)\n",
    "c_samp"
   ]
  },
  {
   "cell_type": "code",
   "execution_count": 48,
   "id": "1cb6111a",
   "metadata": {},
   "outputs": [
    {
     "data": {
      "text/plain": [
       "array([[ 1,  2,  3,  4,  5],\n",
       "       [50, 50, 50, 50, 50],\n",
       "       [11, 12, 13, 14, 15]])"
      ]
     },
     "execution_count": 48,
     "metadata": {},
     "output_type": "execute_result"
    }
   ],
   "source": [
    "c_samp[1]=50\n",
    "c_samp"
   ]
  },
  {
   "cell_type": "code",
   "execution_count": 50,
   "id": "d025c815",
   "metadata": {
    "scrolled": true
   },
   "outputs": [
    {
     "data": {
      "text/plain": [
       "array([ 9, 10, 11, 12, 13, 14, 15, 16, 17, 18, 19, 20, 21, 22, 23, 24, 25])"
      ]
     },
     "execution_count": 50,
     "metadata": {},
     "output_type": "execute_result"
    }
   ],
   "source": [
    "d_samp=np.arange(9,26)\n",
    "d_samp"
   ]
  },
  {
   "cell_type": "code",
   "execution_count": 52,
   "id": "f8bcb9b6",
   "metadata": {},
   "outputs": [
    {
     "data": {
      "text/plain": [
       "array([200, 200, 200, 200, 200, 200, 200, 200, 200, 200, 200, 200, 200,\n",
       "       200, 200, 200, 200])"
      ]
     },
     "execution_count": 52,
     "metadata": {},
     "output_type": "execute_result"
    }
   ],
   "source": [
    "d_samp[:]=200\n",
    "d_samp"
   ]
  },
  {
   "cell_type": "code",
   "execution_count": 51,
   "id": "41f064f8",
   "metadata": {},
   "outputs": [
    {
     "data": {
      "text/plain": [
       "array([11, 12, 13, 14])"
      ]
     },
     "execution_count": 51,
     "metadata": {},
     "output_type": "execute_result"
    }
   ],
   "source": [
    "sub_d_samp=d_samp[2:6]\n",
    "sub_d_samp"
   ]
  },
  {
   "cell_type": "markdown",
   "id": "d5cb56e9",
   "metadata": {},
   "source": [
    "# 2-D Array"
   ]
  },
  {
   "cell_type": "code",
   "execution_count": 55,
   "id": "258298c4",
   "metadata": {},
   "outputs": [
    {
     "data": {
      "text/plain": [
       "array([[13, 23, 45],\n",
       "       [65, 43, 54],\n",
       "       [98, 23, 54]])"
      ]
     },
     "execution_count": 55,
     "metadata": {},
     "output_type": "execute_result"
    }
   ],
   "source": [
    "two_ar=np.array(([13,23,45],[65,43,54],[98,23,54]))\n",
    "two_ar"
   ]
  },
  {
   "cell_type": "code",
   "execution_count": 57,
   "id": "a12ad5d2",
   "metadata": {},
   "outputs": [
    {
     "data": {
      "text/plain": [
       "54"
      ]
     },
     "execution_count": 57,
     "metadata": {},
     "output_type": "execute_result"
    }
   ],
   "source": [
    "two_ar[1][2]"
   ]
  },
  {
   "cell_type": "code",
   "execution_count": 58,
   "id": "b078e27e",
   "metadata": {},
   "outputs": [
    {
     "data": {
      "text/plain": [
       "array([45, 54, 54])"
      ]
     },
     "execution_count": 58,
     "metadata": {},
     "output_type": "execute_result"
    }
   ],
   "source": [
    "two_ar[:,2]"
   ]
  },
  {
   "cell_type": "code",
   "execution_count": 59,
   "id": "6b2d89c4",
   "metadata": {},
   "outputs": [
    {
     "data": {
      "text/plain": [
       "array([[23]])"
      ]
     },
     "execution_count": 59,
     "metadata": {},
     "output_type": "execute_result"
    }
   ],
   "source": [
    "two_ar[0:1,1:2]"
   ]
  },
  {
   "cell_type": "code",
   "execution_count": 83,
   "id": "ec1129ba",
   "metadata": {},
   "outputs": [
    {
     "data": {
      "text/plain": [
       "array([176,  89, 153])"
      ]
     },
     "execution_count": 83,
     "metadata": {},
     "output_type": "execute_result"
    }
   ],
   "source": [
    "two_ar.sum(axis=0)"
   ]
  },
  {
   "cell_type": "code",
   "execution_count": 84,
   "id": "bfa1ac5e",
   "metadata": {},
   "outputs": [
    {
     "data": {
      "text/plain": [
       "array([ 81, 162, 175])"
      ]
     },
     "execution_count": 84,
     "metadata": {},
     "output_type": "execute_result"
    }
   ],
   "source": [
    "two_ar.sum(axis=1)"
   ]
  },
  {
   "cell_type": "code",
   "execution_count": 94,
   "id": "25890479",
   "metadata": {},
   "outputs": [
    {
     "data": {
      "text/plain": [
       "6"
      ]
     },
     "execution_count": 94,
     "metadata": {},
     "output_type": "execute_result"
    }
   ],
   "source": [
    "two_ar.argmax()"
   ]
  },
  {
   "cell_type": "code",
   "execution_count": 95,
   "id": "de9eb28c",
   "metadata": {},
   "outputs": [
    {
     "data": {
      "text/plain": [
       "0"
      ]
     },
     "execution_count": 95,
     "metadata": {},
     "output_type": "execute_result"
    }
   ],
   "source": [
    "two_ar.argmin()"
   ]
  },
  {
   "cell_type": "code",
   "execution_count": 96,
   "id": "a226c3e6",
   "metadata": {},
   "outputs": [
    {
     "data": {
      "text/plain": [
       "array([2, 1, 1], dtype=int64)"
      ]
     },
     "execution_count": 96,
     "metadata": {},
     "output_type": "execute_result"
    }
   ],
   "source": [
    "two_ar.argmax(axis=0)"
   ]
  },
  {
   "cell_type": "code",
   "execution_count": 97,
   "id": "f1690fb4",
   "metadata": {
    "scrolled": true
   },
   "outputs": [
    {
     "data": {
      "text/plain": [
       "array([2, 0, 0], dtype=int64)"
      ]
     },
     "execution_count": 97,
     "metadata": {},
     "output_type": "execute_result"
    }
   ],
   "source": [
    "two_ar.argmax(axis=1)"
   ]
  },
  {
   "cell_type": "code",
   "execution_count": 98,
   "id": "2f054412",
   "metadata": {},
   "outputs": [
    {
     "data": {
      "text/plain": [
       "array([[0, 0, 0],\n",
       "       [1, 2, 1],\n",
       "       [2, 1, 2]], dtype=int64)"
      ]
     },
     "execution_count": 98,
     "metadata": {},
     "output_type": "execute_result"
    }
   ],
   "source": [
    "two_ar.argsort(axis=0)"
   ]
  },
  {
   "cell_type": "code",
   "execution_count": 99,
   "id": "340a1899",
   "metadata": {},
   "outputs": [
    {
     "data": {
      "text/plain": [
       "(array([1, 2], dtype=int64), array([0, 0], dtype=int64))"
      ]
     },
     "execution_count": 99,
     "metadata": {},
     "output_type": "execute_result"
    }
   ],
   "source": [
    "np.where(two_ar>54)"
   ]
  },
  {
   "cell_type": "code",
   "execution_count": 100,
   "id": "290c9c87",
   "metadata": {},
   "outputs": [
    {
     "data": {
      "text/plain": [
       "9"
      ]
     },
     "execution_count": 100,
     "metadata": {},
     "output_type": "execute_result"
    }
   ],
   "source": [
    "np.count_nonzero(two_ar)"
   ]
  },
  {
   "cell_type": "code",
   "execution_count": 85,
   "id": "844ba77f",
   "metadata": {},
   "outputs": [
    {
     "data": {
      "text/plain": [
       "<numpy.flatiter at 0x12b7d69fa70>"
      ]
     },
     "execution_count": 85,
     "metadata": {},
     "output_type": "execute_result"
    }
   ],
   "source": [
    "two_ar.flat #gets an iterator"
   ]
  },
  {
   "cell_type": "code",
   "execution_count": 87,
   "id": "b1143dd2",
   "metadata": {},
   "outputs": [
    {
     "name": "stdout",
     "output_type": "stream",
     "text": [
      "13\n",
      "23\n",
      "45\n",
      "65\n",
      "43\n",
      "54\n",
      "98\n",
      "23\n",
      "54\n"
     ]
    }
   ],
   "source": [
    "for item in two_ar.flat:\n",
    "    print(item)"
   ]
  },
  {
   "cell_type": "code",
   "execution_count": 89,
   "id": "f694bb8a",
   "metadata": {},
   "outputs": [
    {
     "data": {
      "text/plain": [
       "2"
      ]
     },
     "execution_count": 89,
     "metadata": {},
     "output_type": "execute_result"
    }
   ],
   "source": [
    "two_ar.ndim #No. of dimensions"
   ]
  },
  {
   "cell_type": "code",
   "execution_count": 90,
   "id": "1311ef68",
   "metadata": {},
   "outputs": [
    {
     "data": {
      "text/plain": [
       "9"
      ]
     },
     "execution_count": 90,
     "metadata": {},
     "output_type": "execute_result"
    }
   ],
   "source": [
    "two_ar.size"
   ]
  },
  {
   "cell_type": "code",
   "execution_count": 91,
   "id": "94aa0bbf",
   "metadata": {},
   "outputs": [
    {
     "data": {
      "text/plain": [
       "36"
      ]
     },
     "execution_count": 91,
     "metadata": {},
     "output_type": "execute_result"
    }
   ],
   "source": [
    "two_ar.nbytes # total bytes consumed"
   ]
  },
  {
   "cell_type": "code",
   "execution_count": 92,
   "id": "fbc3bf8a",
   "metadata": {},
   "outputs": [
    {
     "data": {
      "text/plain": [
       "array([ 5,  4,  9,  6, 34,  2,  3])"
      ]
     },
     "execution_count": 92,
     "metadata": {},
     "output_type": "execute_result"
    }
   ],
   "source": [
    "one_ar=np.array([5,4,9,6,34,2,3])\n",
    "one_ar"
   ]
  },
  {
   "cell_type": "code",
   "execution_count": 93,
   "id": "7c5215bb",
   "metadata": {},
   "outputs": [
    {
     "data": {
      "text/plain": [
       "array([5, 6, 1, 0, 3, 2, 4], dtype=int64)"
      ]
     },
     "execution_count": 93,
     "metadata": {},
     "output_type": "execute_result"
    }
   ],
   "source": [
    "one_ar.argsort() "
   ]
  },
  {
   "cell_type": "code",
   "execution_count": 61,
   "id": "d119374d",
   "metadata": {},
   "outputs": [
    {
     "data": {
      "text/plain": [
       "array([ 2,  3,  4,  5,  6,  7,  8,  9, 10, 11, 12, 13, 14])"
      ]
     },
     "execution_count": 61,
     "metadata": {},
     "output_type": "execute_result"
    }
   ],
   "source": [
    "f_eg=np.arange(2,15)\n",
    "f_eg"
   ]
  },
  {
   "cell_type": "code",
   "execution_count": 62,
   "id": "ee2a34ca",
   "metadata": {},
   "outputs": [
    {
     "data": {
      "text/plain": [
       "array([ 4,  6,  8, 10, 12, 14, 16, 18, 20, 22, 24, 26, 28])"
      ]
     },
     "execution_count": 62,
     "metadata": {},
     "output_type": "execute_result"
    }
   ],
   "source": [
    "f_eg+f_eg"
   ]
  },
  {
   "cell_type": "code",
   "execution_count": 63,
   "id": "213a95e0",
   "metadata": {},
   "outputs": [
    {
     "data": {
      "text/plain": [
       "array([7.38905610e+00, 2.00855369e+01, 5.45981500e+01, 1.48413159e+02,\n",
       "       4.03428793e+02, 1.09663316e+03, 2.98095799e+03, 8.10308393e+03,\n",
       "       2.20264658e+04, 5.98741417e+04, 1.62754791e+05, 4.42413392e+05,\n",
       "       1.20260428e+06])"
      ]
     },
     "execution_count": 63,
     "metadata": {},
     "output_type": "execute_result"
    }
   ],
   "source": [
    "np.exp(f_eg)"
   ]
  },
  {
   "cell_type": "code",
   "execution_count": 64,
   "id": "b03e7f0b",
   "metadata": {},
   "outputs": [
    {
     "data": {
      "text/plain": [
       "array([1.41421356, 1.73205081, 2.        , 2.23606798, 2.44948974,\n",
       "       2.64575131, 2.82842712, 3.        , 3.16227766, 3.31662479,\n",
       "       3.46410162, 3.60555128, 3.74165739])"
      ]
     },
     "execution_count": 64,
     "metadata": {},
     "output_type": "execute_result"
    }
   ],
   "source": [
    "np.sqrt(f_eg)"
   ]
  },
  {
   "cell_type": "code",
   "execution_count": 65,
   "id": "9ae3f142",
   "metadata": {},
   "outputs": [
    {
     "data": {
      "text/plain": [
       "array([0.69314718, 1.09861229, 1.38629436, 1.60943791, 1.79175947,\n",
       "       1.94591015, 2.07944154, 2.19722458, 2.30258509, 2.39789527,\n",
       "       2.48490665, 2.56494936, 2.63905733])"
      ]
     },
     "execution_count": 65,
     "metadata": {},
     "output_type": "execute_result"
    }
   ],
   "source": [
    "np.log(f_eg)"
   ]
  },
  {
   "cell_type": "code",
   "execution_count": 66,
   "id": "54f2202e",
   "metadata": {},
   "outputs": [
    {
     "data": {
      "text/plain": [
       "14"
      ]
     },
     "execution_count": 66,
     "metadata": {},
     "output_type": "execute_result"
    }
   ],
   "source": [
    "np.max(f_eg)"
   ]
  },
  {
   "cell_type": "code",
   "execution_count": 67,
   "id": "1d0549bf",
   "metadata": {},
   "outputs": [
    {
     "data": {
      "text/plain": [
       "2"
      ]
     },
     "execution_count": 67,
     "metadata": {},
     "output_type": "execute_result"
    }
   ],
   "source": [
    "np.min(f_eg)"
   ]
  },
  {
   "cell_type": "code",
   "execution_count": 69,
   "id": "9af3aea7",
   "metadata": {},
   "outputs": [
    {
     "data": {
      "text/plain": [
       "12"
      ]
     },
     "execution_count": 69,
     "metadata": {},
     "output_type": "execute_result"
    }
   ],
   "source": [
    "np.argmax(f_eg)"
   ]
  },
  {
   "cell_type": "code",
   "execution_count": 70,
   "id": "c48f9d6d",
   "metadata": {},
   "outputs": [
    {
     "data": {
      "text/plain": [
       "0"
      ]
     },
     "execution_count": 70,
     "metadata": {},
     "output_type": "execute_result"
    }
   ],
   "source": [
    "np.argmin(f_eg)"
   ]
  },
  {
   "cell_type": "code",
   "execution_count": 72,
   "id": "905b963c",
   "metadata": {},
   "outputs": [
    {
     "data": {
      "text/plain": [
       "array([  4,   9,  16,  25,  36,  49,  64,  81, 100, 121, 144, 169, 196],\n",
       "      dtype=int32)"
      ]
     },
     "execution_count": 72,
     "metadata": {},
     "output_type": "execute_result"
    }
   ],
   "source": [
    "np.square(f_eg)"
   ]
  },
  {
   "cell_type": "code",
   "execution_count": 73,
   "id": "2c0e81d6",
   "metadata": {},
   "outputs": [
    {
     "data": {
      "text/plain": [
       "3.7416573867739413"
      ]
     },
     "execution_count": 73,
     "metadata": {},
     "output_type": "execute_result"
    }
   ],
   "source": [
    "np.std(f_eg)"
   ]
  },
  {
   "cell_type": "code",
   "execution_count": 74,
   "id": "7702b8c8",
   "metadata": {},
   "outputs": [
    {
     "data": {
      "text/plain": [
       "14.0"
      ]
     },
     "execution_count": 74,
     "metadata": {},
     "output_type": "execute_result"
    }
   ],
   "source": [
    "np.var(f_eg)"
   ]
  },
  {
   "cell_type": "code",
   "execution_count": 75,
   "id": "8019c358",
   "metadata": {},
   "outputs": [
    {
     "data": {
      "text/plain": [
       "8.0"
      ]
     },
     "execution_count": 75,
     "metadata": {},
     "output_type": "execute_result"
    }
   ],
   "source": [
    "np.mean(f_eg)"
   ]
  },
  {
   "cell_type": "code",
   "execution_count": 77,
   "id": "ca8a05e0",
   "metadata": {},
   "outputs": [
    {
     "data": {
      "text/plain": [
       "8.0"
      ]
     },
     "execution_count": 77,
     "metadata": {},
     "output_type": "execute_result"
    }
   ],
   "source": [
    "np.median(f_eg)"
   ]
  },
  {
   "cell_type": "code",
   "execution_count": 79,
   "id": "f59fd432",
   "metadata": {},
   "outputs": [
    {
     "data": {
      "text/plain": [
       "array([[-0.72406943, -0.78289532,  1.19735683],\n",
       "       [-0.77455733,  1.52870186, -1.24069551],\n",
       "       [ 0.24682711,  1.17469678, -0.44556593],\n",
       "       [ 0.92579631, -0.41451964, -0.18592639]])"
      ]
     },
     "execution_count": 79,
     "metadata": {},
     "output_type": "execute_result"
    }
   ],
   "source": [
    "ar=np.random.randn(4,3)\n",
    "ar"
   ]
  },
  {
   "cell_type": "code",
   "execution_count": 80,
   "id": "065b3870",
   "metadata": {},
   "outputs": [
    {
     "data": {
      "text/plain": [
       "array([[-0.72, -0.78,  1.2 ],\n",
       "       [-0.77,  1.53, -1.24],\n",
       "       [ 0.25,  1.17, -0.45],\n",
       "       [ 0.93, -0.41, -0.19]])"
      ]
     },
     "execution_count": 80,
     "metadata": {},
     "output_type": "execute_result"
    }
   ],
   "source": [
    "np.round(ar,decimals=2)"
   ]
  },
  {
   "cell_type": "code",
   "execution_count": 82,
   "id": "480bfee9",
   "metadata": {},
   "outputs": [
    {
     "data": {
      "text/plain": [
       "array(['cricket', 'hockey', 'tennis'], dtype='<U7')"
      ]
     },
     "execution_count": 82,
     "metadata": {},
     "output_type": "execute_result"
    }
   ],
   "source": [
    "sp=np.array(['hockey','tennis','cricket','hockey','cricket'])\n",
    "np.unique(sp)"
   ]
  },
  {
   "cell_type": "code",
   "execution_count": 3,
   "id": "f01b4fd7",
   "metadata": {},
   "outputs": [
    {
     "data": {
      "text/plain": [
       "array([  1,   2,   3,   4,   5, 500])"
      ]
     },
     "execution_count": 3,
     "metadata": {},
     "output_type": "execute_result"
    }
   ],
   "source": [
    "lst=[1,2,3,4,5,500]\n",
    "sample_list=np.array(lst)\n",
    "sample_list"
   ]
  },
  {
   "cell_type": "code",
   "execution_count": 4,
   "id": "289051e4",
   "metadata": {},
   "outputs": [
    {
     "data": {
      "text/plain": [
       "85.83333333333333"
      ]
     },
     "execution_count": 4,
     "metadata": {},
     "output_type": "execute_result"
    }
   ],
   "source": [
    "np.mean(sample_list)"
   ]
  },
  {
   "cell_type": "code",
   "execution_count": 5,
   "id": "2cc0947c",
   "metadata": {},
   "outputs": [
    {
     "data": {
      "text/plain": [
       "3.5"
      ]
     },
     "execution_count": 5,
     "metadata": {},
     "output_type": "execute_result"
    }
   ],
   "source": [
    "np.median(sample_list)"
   ]
  },
  {
   "cell_type": "markdown",
   "id": "31c27210",
   "metadata": {},
   "source": [
    "For more functions of NumPy refer following:\n",
    "https://www.w3schools.com/python/numpy/default.asp\n",
    "https://numpy.org/doc/stable/reference/generated/numpy.ndarray.html"
   ]
  }
 ],
 "metadata": {
  "kernelspec": {
   "display_name": "Python 3",
   "language": "python",
   "name": "python3"
  },
  "language_info": {
   "codemirror_mode": {
    "name": "ipython",
    "version": 3
   },
   "file_extension": ".py",
   "mimetype": "text/x-python",
   "name": "python",
   "nbconvert_exporter": "python",
   "pygments_lexer": "ipython3",
   "version": "3.8.8"
  }
 },
 "nbformat": 4,
 "nbformat_minor": 5
}
